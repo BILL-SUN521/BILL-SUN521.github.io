{
 "cells": [
  {
   "cell_type": "code",
   "execution_count": 1,
   "metadata": {},
   "outputs": [],
   "source": [
    "class Solution(object):\n",
    "    def twoSum(self, nums, target):\n",
    "        \"\"\"\n",
    "        :type nums: List[int]\n",
    "        :type target: int\n",
    "        :rtype: List[int]\n",
    "        \"\"\"\n",
    "        # 遍历列表\n",
    "        for i in range(len(nums)):\n",
    "            # 计算需要找到的下一个目标数字\n",
    "            res = target-nums[i]\n",
    "                # 遍历剩下的元素，查找是否存在该数字\n",
    "            if res in nums[i+1:]:\n",
    "                # 若存在，返回答案。这里由于是两数之和，可采用.index()方法\n",
    "                # 获得目标元素在nums[i+1:]这个子数组中的索引后，还需加上i+1才是该元素在nums中的索引\n",
    "                return [i, nums[i+1:].index(res)+i+1]"
   ]
  },
  {
   "cell_type": "code",
   "execution_count": 2,
   "metadata": {},
   "outputs": [],
   "source": [
    "a = Solution()"
   ]
  },
  {
   "cell_type": "code",
   "execution_count": 3,
   "metadata": {},
   "outputs": [
    {
     "data": {
      "text/plain": [
       "[0, 1]"
      ]
     },
     "execution_count": 3,
     "metadata": {},
     "output_type": "execute_result"
    }
   ],
   "source": [
    "a.twoSum([2, 7, 11, 15], 9)"
   ]
  },
  {
   "cell_type": "code",
   "execution_count": null,
   "metadata": {},
   "outputs": [],
   "source": [
    "class ListNode(object):\n",
    "    def __init__(self, val=0, next=None):\n",
    "        self.val = val\n",
    "        self.next = next\n",
    "class Solution:\n",
    "    # l1 和 l2 为当前遍历的链表节点，carry 为进位，默认为 0\n",
    "    def addTwoNumbers(self, l1: ListNode, l2: ListNode, carry=0):\n",
    "        # 检查递归边界：当 l1 和 l2 都为空时\n",
    "        if l1 is None and l2 is None:\n",
    "            # 如果还有进位，则创建一个新节点存储进位值；否则返回 None\n",
    "            return ListNode(carry) if carry else None\n",
    "\n",
    "        # 如果 l1 当前节点为空，说明 l1 已经遍历完，直接将 l1 和 l2 交换\n",
    "        if l1 is None:\n",
    "            l1, l2 = l2, l1  # 确保 l1 不为空，简化后续代码\n",
    "\n",
    "        # 将当前节点值和 l2 的值（如果存在）以及进位相加\n",
    "        carry += l1.val + (l2.val if l2 else 0)  # l2 为空时取 0\n",
    "\n",
    "        # 更新 l1 当前节点的值，保留个位数\n",
    "        l1.val = carry % 10  # 当前节点的值为和的个位数\n",
    "\n",
    "        # 递归调用处理下一个节点，同时计算新的进位\n",
    "        l1.next = self.addTwoNumbers(l1.next, l2.next if l2 else None, carry // 10)  # 进位为整除 10 的结果\n",
    "\n",
    "        # 返回更新后的 l1 链表\n",
    "        return l1"
   ]
  },
  {
   "cell_type": "code",
   "execution_count": null,
   "metadata": {},
   "outputs": [],
   "source": [
    "l1 = [2,4,3]\n",
    "l2 = [5,6,4]\n",
    "b = ListNode\n",
    "l1 = b(2, b(4, b(3)))\n",
    "l2= b(5, b(6, b(4)))\n",
    "a = Solution()\n",
    "a.addTwoNumbers(l1, l2)"
   ]
  }
 ],
 "metadata": {
  "kernelspec": {
   "display_name": "base",
   "language": "python",
   "name": "python3"
  },
  "language_info": {
   "codemirror_mode": {
    "name": "ipython",
    "version": 3
   },
   "file_extension": ".py",
   "mimetype": "text/x-python",
   "name": "python",
   "nbconvert_exporter": "python",
   "pygments_lexer": "ipython3",
   "version": "3.9.16"
  }
 },
 "nbformat": 4,
 "nbformat_minor": 2
}
