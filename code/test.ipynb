{
 "cells": [
  {
   "cell_type": "code",
   "execution_count": 1,
   "metadata": {},
   "outputs": [
    {
     "name": "stdout",
     "output_type": "stream",
     "text": [
      "0.25935113430023193\n",
      "0.11506917476654052\n",
      "0.002876615524291992\n",
      "0.0009170770645141602\n"
     ]
    }
   ],
   "source": [
    "import random\n",
    "import time\n",
    "import numpy as np\n",
    "\n",
    "\n",
    "def set_intersection(length=10000, interval=100000):\n",
    "  a = set(random.sample([i for i in range(interval)], length))\n",
    "  b = set(random.sample([i for i in range(interval)], length))\n",
    "  time_1, time_2 = [], [] \n",
    "  for i in range(10):\n",
    "    start_time = time.time()\n",
    "    set(a) & set(b)\n",
    "    end_time = time.time()\n",
    "    time_1.append(end_time-start_time)\n",
    "    start_time_2 = time.time()\n",
    "    a.intersection(b)\n",
    "    end_time_2 = time.time()\n",
    "    time_2.append(end_time_2 - start_time_2)\n",
    "  print(np.mean(time_1))\n",
    "  print(np.mean(time_2))\n",
    "\n",
    "\n",
    "a = set(random.sample([i for i in range(10000000)], 1000000))\n",
    "b = set(random.sample([i for i in range(10000000)], 1000000))\n",
    "\n",
    "set_intersection(1000000, 10000000)\n",
    "set_intersection(10000, 100000)"
   ]
  },
  {
   "cell_type": "code",
   "execution_count": 9,
   "metadata": {},
   "outputs": [
    {
     "name": "stderr",
     "output_type": "stream",
     "text": [
      " 33%|███▎      | 1/3 [00:01<00:02,  1.01s/it]"
     ]
    },
    {
     "name": "stdout",
     "output_type": "stream",
     "text": [
      "1\n"
     ]
    },
    {
     "name": "stderr",
     "output_type": "stream",
     "text": [
      " 67%|██████▋   | 2/3 [00:02<00:01,  1.01s/it]"
     ]
    },
    {
     "name": "stdout",
     "output_type": "stream",
     "text": [
      "2\n"
     ]
    },
    {
     "name": "stderr",
     "output_type": "stream",
     "text": [
      "100%|██████████| 3/3 [00:03<00:00,  1.01s/it]"
     ]
    },
    {
     "name": "stdout",
     "output_type": "stream",
     "text": [
      "3\n"
     ]
    },
    {
     "name": "stderr",
     "output_type": "stream",
     "text": [
      "\n"
     ]
    }
   ],
   "source": [
    "from tqdm import tqdm\n",
    "\n",
    "import time\n",
    "\n",
    "# 创建一个列表\n",
    "\n",
    "a = [1, 2, 3]\n",
    "\n",
    "# 使用 tqdm 包装列表，显示进度条\n",
    "\n",
    "for i in tqdm(a):\n",
    "\n",
    "  time.sleep(1)  # 模拟长时间运行的任务\n",
    "\n",
    "  print(i)"
   ]
  },
  {
   "cell_type": "code",
   "execution_count": 10,
   "metadata": {},
   "outputs": [
    {
     "name": "stderr",
     "output_type": "stream",
     "text": [
      " 33%|███▎      | 1/3 [00:01<00:02,  1.00s/it]"
     ]
    },
    {
     "name": "stdout",
     "output_type": "stream",
     "text": [
      "0\n"
     ]
    },
    {
     "name": "stderr",
     "output_type": "stream",
     "text": [
      " 67%|██████▋   | 2/3 [00:02<00:01,  1.01s/it]"
     ]
    },
    {
     "name": "stdout",
     "output_type": "stream",
     "text": [
      "1\n"
     ]
    },
    {
     "name": "stderr",
     "output_type": "stream",
     "text": [
      "100%|██████████| 3/3 [00:03<00:00,  1.01s/it]"
     ]
    },
    {
     "name": "stdout",
     "output_type": "stream",
     "text": [
      "2\n"
     ]
    },
    {
     "name": "stderr",
     "output_type": "stream",
     "text": [
      "\n"
     ]
    }
   ],
   "source": [
    "from tqdm import trange\n",
    "\n",
    "import time\n",
    "\n",
    "# 使用 trange 生成一个带有进度条的范围对象\n",
    "\n",
    "for i in trange(3):\n",
    "\n",
    "  time.sleep(1)  # 模拟长时间运行的任务\n",
    "\n",
    "  print(i)"
   ]
  },
  {
   "cell_type": "code",
   "execution_count": 13,
   "metadata": {},
   "outputs": [
    {
     "name": "stderr",
     "output_type": "stream",
     "text": [
      "GEN 9: 100%|██████████| 10/10 [00:01<00:00,  9.12it/s, gen=58, loss=0.997, lst=[1, 2], str=h] \n"
     ]
    }
   ],
   "source": [
    "from tqdm import trange\n",
    "from random import random,randint\n",
    "import time\n",
    " \n",
    "with trange(10) as t:\n",
    "  for i in t:\n",
    "    #设置进度条左边显示的信息\n",
    "    t.set_description(\"GEN %i\"%i)\n",
    "    #设置进度条右边显示的信息\n",
    "    t.set_postfix(loss=random(),gen=randint(1,999),str=\"h\",lst=[1,2])\n",
    "    time.sleep(0.1)"
   ]
  }
 ],
 "metadata": {
  "kernelspec": {
   "display_name": "base",
   "language": "python",
   "name": "python3"
  },
  "language_info": {
   "codemirror_mode": {
    "name": "ipython",
    "version": 3
   },
   "file_extension": ".py",
   "mimetype": "text/x-python",
   "name": "python",
   "nbconvert_exporter": "python",
   "pygments_lexer": "ipython3",
   "version": "3.9.16"
  }
 },
 "nbformat": 4,
 "nbformat_minor": 2
}
