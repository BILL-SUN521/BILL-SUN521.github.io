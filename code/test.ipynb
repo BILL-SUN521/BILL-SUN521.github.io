{
 "cells": [
  {
   "cell_type": "code",
   "execution_count": 1,
   "metadata": {},
   "outputs": [
    {
     "name": "stdout",
     "output_type": "stream",
     "text": [
      "0.25935113430023193\n",
      "0.11506917476654052\n",
      "0.002876615524291992\n",
      "0.0009170770645141602\n"
     ]
    }
   ],
   "source": [
    "import random\n",
    "import time\n",
    "import numpy as np\n",
    "\n",
    "\n",
    "def set_intersection(length=10000, interval=100000):\n",
    "  a = set(random.sample([i for i in range(interval)], length))\n",
    "  b = set(random.sample([i for i in range(interval)], length))\n",
    "  time_1, time_2 = [], [] \n",
    "  for i in range(10):\n",
    "    start_time = time.time()\n",
    "    set(a) & set(b)\n",
    "    end_time = time.time()\n",
    "    time_1.append(end_time-start_time)\n",
    "    start_time_2 = time.time()\n",
    "    a.intersection(b)\n",
    "    end_time_2 = time.time()\n",
    "    time_2.append(end_time_2 - start_time_2)\n",
    "  print(np.mean(time_1))\n",
    "  print(np.mean(time_2))\n",
    "\n",
    "\n",
    "a = set(random.sample([i for i in range(10000000)], 1000000))\n",
    "b = set(random.sample([i for i in range(10000000)], 1000000))\n",
    "\n",
    "set_intersection(1000000, 10000000)\n",
    "set_intersection(10000, 100000)"
   ]
  },
  {
   "cell_type": "code",
   "execution_count": 9,
   "metadata": {},
   "outputs": [
    {
     "name": "stderr",
     "output_type": "stream",
     "text": [
      " 33%|███▎      | 1/3 [00:01<00:02,  1.01s/it]"
     ]
    },
    {
     "name": "stdout",
     "output_type": "stream",
     "text": [
      "1\n"
     ]
    },
    {
     "name": "stderr",
     "output_type": "stream",
     "text": [
      " 67%|██████▋   | 2/3 [00:02<00:01,  1.01s/it]"
     ]
    },
    {
     "name": "stdout",
     "output_type": "stream",
     "text": [
      "2\n"
     ]
    },
    {
     "name": "stderr",
     "output_type": "stream",
     "text": [
      "100%|██████████| 3/3 [00:03<00:00,  1.01s/it]"
     ]
    },
    {
     "name": "stdout",
     "output_type": "stream",
     "text": [
      "3\n"
     ]
    },
    {
     "name": "stderr",
     "output_type": "stream",
     "text": [
      "\n"
     ]
    }
   ],
   "source": [
    "from tqdm import tqdm\n",
    "\n",
    "import time\n",
    "\n",
    "# 创建一个列表\n",
    "\n",
    "a = [1, 2, 3]\n",
    "\n",
    "# 使用 tqdm 包装列表，显示进度条\n",
    "\n",
    "for i in tqdm(a):\n",
    "\n",
    "  time.sleep(1)  # 模拟长时间运行的任务\n",
    "\n",
    "  print(i)"
   ]
  },
  {
   "cell_type": "code",
   "execution_count": 10,
   "metadata": {},
   "outputs": [
    {
     "name": "stderr",
     "output_type": "stream",
     "text": [
      " 33%|███▎      | 1/3 [00:01<00:02,  1.00s/it]"
     ]
    },
    {
     "name": "stdout",
     "output_type": "stream",
     "text": [
      "0\n"
     ]
    },
    {
     "name": "stderr",
     "output_type": "stream",
     "text": [
      " 67%|██████▋   | 2/3 [00:02<00:01,  1.01s/it]"
     ]
    },
    {
     "name": "stdout",
     "output_type": "stream",
     "text": [
      "1\n"
     ]
    },
    {
     "name": "stderr",
     "output_type": "stream",
     "text": [
      "100%|██████████| 3/3 [00:03<00:00,  1.01s/it]"
     ]
    },
    {
     "name": "stdout",
     "output_type": "stream",
     "text": [
      "2\n"
     ]
    },
    {
     "name": "stderr",
     "output_type": "stream",
     "text": [
      "\n"
     ]
    }
   ],
   "source": [
    "from tqdm import trange\n",
    "\n",
    "import time\n",
    "\n",
    "# 使用 trange 生成一个带有进度条的范围对象\n",
    "\n",
    "for i in trange(3):\n",
    "\n",
    "  time.sleep(1)  # 模拟长时间运行的任务\n",
    "\n",
    "  print(i)"
   ]
  },
  {
   "cell_type": "code",
   "execution_count": 13,
   "metadata": {},
   "outputs": [
    {
     "name": "stderr",
     "output_type": "stream",
     "text": [
      "GEN 9: 100%|██████████| 10/10 [00:01<00:00,  9.12it/s, gen=58, loss=0.997, lst=[1, 2], str=h] \n"
     ]
    }
   ],
   "source": [
    "from tqdm import trange\n",
    "from random import random,randint\n",
    "import time\n",
    " \n",
    "with trange(10) as t:\n",
    "  for i in t:\n",
    "    #设置进度条左边显示的信息\n",
    "    t.set_description(\"GEN %i\"%i)\n",
    "    #设置进度条右边显示的信息\n",
    "    t.set_postfix(loss=random(),gen=randint(1,999),str=\"h\",lst=[1,2])\n",
    "    time.sleep(0.1)"
   ]
  },
  {
   "cell_type": "code",
   "execution_count": 17,
   "metadata": {},
   "outputs": [
    {
     "name": "stdout",
     "output_type": "stream",
     "text": [
      "0.4020892381668091\n",
      "11.329256582260133\n"
     ]
    }
   ],
   "source": [
    "import numpy as np\n",
    "import time\n",
    "import random\n",
    "\n",
    "a = [i for i in range(99999)]\n",
    "b = random.sample(a, 10000)\n",
    "a_arr = np.array(a)\n",
    "array_time = []\n",
    "index_time = []\n",
    "for i in range(10):\n",
    "  time_start = time.time()\n",
    "  [a.index(j) for j in b]\n",
    "  time_end = time.time()\n",
    "  time_run = time_end - time_start\n",
    "  index_time.append(time_run)\n",
    "  time_start = time.time()\n",
    "  [np.where(a_arr == j)[0][0] for j in b]\n",
    "  time_end = time.time()\n",
    "  time_run = time_end - time_start\n",
    "  array_time.append(time_run)\n",
    "\n",
    "print(np.mean(array_time))\n",
    "print(np.mean(index_time))"
   ]
  },
  {
   "cell_type": "code",
   "execution_count": 2,
   "metadata": {},
   "outputs": [],
   "source": [
    "class ListNode(object):\n",
    "    def __init__(self, val=0, next=None):\n",
    "        self.val = val\n",
    "        self.next = next\n",
    "class Solution:\n",
    "    # l1 和 l2 为当前遍历的链表节点，carry 为进位，默认为 0\n",
    "    def addTwoNumbers(self, l1: ListNode, l2: ListNode, carry=0):\n",
    "        # 检查递归边界：当 l1 和 l2 都为空时\n",
    "        if l1 is None and l2 is None:\n",
    "            # 如果还有进位，则创建一个新节点存储进位值；否则返回 None\n",
    "            return ListNode(carry) if carry else None\n",
    "\n",
    "        # 如果 l1 当前节点为空，说明 l1 已经遍历完，直接将 l1 和 l2 交换\n",
    "        if l1 is None:\n",
    "            l1, l2 = l2, l1  # 确保 l1 不为空，简化后续代码\n",
    "\n",
    "        # 将当前节点值和 l2 的值（如果存在）以及进位相加\n",
    "        carry += l1.val + (l2.val if l2 else 0)  # l2 为空时取 0\n",
    "\n",
    "        # 更新 l1 当前节点的值，保留个位数\n",
    "        l1.val = carry % 10  # 当前节点的值为和的个位数\n",
    "\n",
    "        # 递归调用处理下一个节点，同时计算新的进位\n",
    "        l1.next = self.addTwoNumbers(l1.next, l2.next if l2 else None, carry // 10)  # 进位为整除 10 的结果\n",
    "\n",
    "        # 返回更新后的 l1 链表\n",
    "        return l1"
   ]
  },
  {
   "cell_type": "code",
   "execution_count": 8,
   "metadata": {},
   "outputs": [
    {
     "data": {
      "text/plain": [
       "<__main__.ListNode at 0x161fc336a90>"
      ]
     },
     "execution_count": 8,
     "metadata": {},
     "output_type": "execute_result"
    }
   ],
   "source": [
    "l1 = [2,4,3]\n",
    "l2 = [5,6,4]\n",
    "b = ListNode\n",
    "l1 = b(2, b(4, b(3)))\n",
    "l2= b(5, b(6, b(4)))\n",
    "a = Solution()\n",
    "a.addTwoNumbers(l1, l2)"
   ]
  }
 ],
 "metadata": {
  "kernelspec": {
   "display_name": "base",
   "language": "python",
   "name": "python3"
  },
  "language_info": {
   "codemirror_mode": {
    "name": "ipython",
    "version": 3
   },
   "file_extension": ".py",
   "mimetype": "text/x-python",
   "name": "python",
   "nbconvert_exporter": "python",
   "pygments_lexer": "ipython3",
   "version": "3.9.16"
  }
 },
 "nbformat": 4,
 "nbformat_minor": 2
}
