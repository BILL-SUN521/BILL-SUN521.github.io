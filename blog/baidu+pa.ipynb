{
 "cells": [
  {
   "cell_type": "code",
   "execution_count": null,
   "metadata": {
    "vscode": {
     "languageId": "plaintext"
    }
   },
   "outputs": [],
   "source": [
    "from selenium import webdriver\n",
    "from selenium.webdriver.common.by import By\n",
    "import time\n",
    "\n",
    "# 设置 ChromeDriver 的路径\n",
    "driver_path = 'path/to/chromedriver'  # 替换为你的 ChromeDriver 路径\n",
    "driver = webdriver.Chrome(driver_path)\n",
    "\n",
    "try:\n",
    "    # 打开百度\n",
    "    driver.get(\"https://www.baidu.com\")\n",
    "\n",
    "    # 查找搜索框并输入搜索内容\n",
    "    search_box = driver.find_element(By.NAME, \"wd\")\n",
    "    search_box.send_keys(\"人工智能\")\n",
    "    \n",
    "    # 提交搜索\n",
    "    search_box.submit()\n",
    "\n",
    "    # 等待搜索结果加载\n",
    "    time.sleep(2)  # 可以根据网络情况调整等待时间\n",
    "\n",
    "    # 获取搜索结果\n",
    "    results = driver.find_elements(By.CSS_SELECTOR, '.result.c-container')\n",
    "\n",
    "    # 提取信息\n",
    "    for result in results:\n",
    "        title = result.find_element(By.TAG_NAME, \"h3\").text\n",
    "        link = result.find_element(By.TAG_NAME, \"a\").get_attribute(\"href\")\n",
    "        \n",
    "        # 有些结果可能没有日期信息，可以选择性提取\n",
    "        try:\n",
    "            date = result.find_element(By.CLASS_NAME, \"c-color-gray\").text\n",
    "        except:\n",
    "            date = \"无日期信息\"\n",
    "\n",
    "        print(f\"标题: {title}\")\n",
    "        print(f\"链接: {link}\")\n",
    "        print(f\"日期: {date}\")\n",
    "        print(\"-\" * 40)\n",
    "\n",
    "finally:\n",
    "    # 关闭浏览器\n",
    "    driver.quit()"
   ]
  }
 ],
 "metadata": {
  "language_info": {
   "name": "python"
  }
 },
 "nbformat": 4,
 "nbformat_minor": 2
}
