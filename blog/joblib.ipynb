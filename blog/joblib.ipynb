{
 "cells": [
  {
   "cell_type": "code",
   "execution_count": 18,
   "metadata": {},
   "outputs": [
    {
     "name": "stdout",
     "output_type": "stream",
     "text": [
      "一共耗时3.009434223175049s\n"
     ]
    }
   ],
   "source": [
    "from joblib import Parallel, delayed\n",
    "import time\n",
    "\n",
    "def single(a):\n",
    "    \"\"\"定义一个简单的函数\"\"\"\n",
    "    print(a)\n",
    "    time.sleep(1)  # 休眠 1s\n",
    "    print(a)  # 打印出 a\n",
    "    \n",
    "start = time.time()  # 记录开始的时间\n",
    "Parallel(n_jobs=4)(delayed(single)(i * 3) for i in range(10))  # 并行化处理\n",
    "Time = time.time() - start  # 计算执行的时间\n",
    "print(\"一共耗时\" + str(Time) + \"s\")"
   ]
  },
  {
   "cell_type": "code",
   "execution_count": 24,
   "metadata": {},
   "outputs": [
    {
     "data": {
      "text/plain": [
       "[0.0,\n",
       " 1.4142135623730951,\n",
       " 2.0,\n",
       " 2.449489742783178,\n",
       " 2.8284271247461903,\n",
       " 3.1622776601683795,\n",
       " 3.4641016151377544,\n",
       " 3.7416573867739413,\n",
       " 4.0,\n",
       " 4.242640687119285]"
      ]
     },
     "execution_count": 24,
     "metadata": {},
     "output_type": "execute_result"
    }
   ],
   "source": [
    "from math import sqrt\n",
    "from joblib import Parallel, delayed\n",
    "Parallel(n_jobs=1)(delayed(sqrt)(i*2) for i in range(10))\n",
    "#[0.0, 1.0, 2.0, 3.0, 4.0, 5.0, 6.0, 7.0, 8.0, 9.0]"
   ]
  },
  {
   "cell_type": "code",
   "execution_count": 26,
   "metadata": {},
   "outputs": [
    {
     "name": "stdout",
     "output_type": "stream",
     "text": [
      "(0.0, 0.5, 0.0, 0.5, 0.0, 0.5, 0.0, 0.5, 0.0, 0.5)\n",
      "(0.0, 0.0, 1.0, 1.0, 2.0, 2.0, 3.0, 3.0, 4.0, 4.0)\n"
     ]
    }
   ],
   "source": [
    "from math import modf\n",
    "from joblib import Parallel, delayed\n",
    "r = Parallel(n_jobs=1)(delayed(modf)(i/2.) for i in range(10))\n",
    "res, i = zip(*r)\n",
    "print(res)\n",
    "print(i)"
   ]
  },
  {
   "cell_type": "markdown",
   "metadata": {},
   "source": [
    "参数:verbose: int, default=0\n",
    "\n",
    "冗余级别：如果不为零，则打印进度信息。 超过 50 时，输出将发送到 stdout。 信息的频率随冗长程度的增加而增加。 如果超过 10，则报告所有迭代。\n",
    "\n",
    "进度表：verbose 的值越高，信息越多："
   ]
  },
  {
   "cell_type": "code",
   "execution_count": 27,
   "metadata": {},
   "outputs": [
    {
     "name": "stderr",
     "output_type": "stream",
     "text": [
      "[Parallel(n_jobs=2)]: Using backend LokyBackend with 2 concurrent workers.\n",
      "[Parallel(n_jobs=2)]: Done   1 tasks      | elapsed:    0.9s\n",
      "[Parallel(n_jobs=2)]: Done   4 tasks      | elapsed:    1.1s\n",
      "[Parallel(n_jobs=2)]: Done  10 out of  10 | elapsed:    1.7s finished\n"
     ]
    }
   ],
   "source": [
    "from time import sleep\n",
    "from joblib import Parallel, delayed\n",
    "r = Parallel(n_jobs=2, verbose=10)(\n",
    "    delayed(sleep)(.2) for _ in range(10)) "
   ]
  },
  {
   "cell_type": "markdown",
   "metadata": {},
   "source": [
    "pre_dispatch: {‘all’, integer, or expression, as in ‘3*n_jobs’}, default=’2*n_jobs’\n",
    "\n",
    "要预先分配的批次（任务）数量。 默认为 \"2*n_job\"。 当 batch_size=\"auto \"时，这是合理的默认值，工人不会饿死。 请注意，此处只允许使用基本运算，且表达式中不能使用任何模块。\n",
    "\n",
    "在生产者/消费者情况下使用 pre_dispatch，数据是即时生成的。 请注意，在并行循环启动之前，生产者首先被调用 3 次，然后被调用以即时生成新数据："
   ]
  },
  {
   "cell_type": "code",
   "execution_count": 29,
   "metadata": {},
   "outputs": [
    {
     "name": "stdout",
     "output_type": "stream",
     "text": [
      "[Parallel(n_jobs=2)]: Using backend LokyBackend with 2 concurrent workers.\n",
      "Produced 0\n",
      "Produced 1\n",
      "Produced 2\n",
      "[Parallel(n_jobs=2)]: Done   1 tasks      | elapsed:    0.7s\n",
      "Produced 3\n",
      "Produced 4\n",
      "[Parallel(n_jobs=2)]: Done   2 tasks      | elapsed:    0.7s\n",
      "[Parallel(n_jobs=2)]: Done   3 tasks      | elapsed:    0.7s\n",
      "Produced 5\n",
      "[Parallel(n_jobs=2)]: Done   4 tasks      | elapsed:    0.7s\n",
      "[Parallel(n_jobs=2)]: Done   6 out of   6 | elapsed:    0.7s remaining:    0.0s\n",
      "[Parallel(n_jobs=2)]: Done   6 out of   6 | elapsed:    0.7s finished\n"
     ]
    }
   ],
   "source": [
    "from math import sqrt\n",
    "from joblib import Parallel, delayed\n",
    "def producer():\n",
    "    for i in range(6):\n",
    "        print('Produced %s' % i)\n",
    "        yield i\n",
    "out = Parallel(n_jobs=2, verbose=100, pre_dispatch='1.5*n_jobs')(\n",
    "    delayed(sqrt)(i) for i in producer())"
   ]
  }
 ],
 "metadata": {
  "kernelspec": {
   "display_name": "py3-11",
   "language": "python",
   "name": "python3"
  },
  "language_info": {
   "codemirror_mode": {
    "name": "ipython",
    "version": 3
   },
   "file_extension": ".py",
   "mimetype": "text/x-python",
   "name": "python",
   "nbconvert_exporter": "python",
   "pygments_lexer": "ipython3",
   "version": "3.11.4"
  }
 },
 "nbformat": 4,
 "nbformat_minor": 2
}
